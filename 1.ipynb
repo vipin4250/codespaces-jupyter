{
 "cells": [
  {
   "cell_type": "markdown",
   "metadata": {},
   "source": [
    "Initialisation of a matrix"
   ]
  },
  {
   "cell_type": "code",
   "execution_count": 5,
   "metadata": {},
   "outputs": [
    {
     "name": "stdout",
     "output_type": "stream",
     "text": [
      "[[ 2.  4.  5.]\n",
      " [ 3.  2. -1.]\n",
      " [ 1. -3.  1.]]\n",
      "[[-15]\n",
      " [-21]\n",
      " [ 18]]\n"
     ]
    }
   ],
   "source": [
    "import numpy as np\n",
    "A=np.array([[2,4,5],[3,2,-1],[1,-3,1]],dtype=float)\n",
    "B=np.array([-15,-21,18])\n",
    "n=3\n",
    "A=np.reshape(A,(n,n))\n",
    "B=np.reshape(B,(n,1)) \n",
    "print(A)\n",
    "print(B)"
   ]
  },
  {
   "cell_type": "markdown",
   "metadata": {},
   "source": [
    "Converting the matrix into triangular matrix"
   ]
  },
  {
   "cell_type": "code",
   "execution_count": 6,
   "metadata": {},
   "outputs": [
    {
     "name": "stdout",
     "output_type": "stream",
     "text": [
      "[2. 4. 5.]\n",
      "[[ 1.   2.   2.5]\n",
      " [ 3.   2.  -1. ]\n",
      " [ 1.  -3.   1. ]]\n",
      "[[ -7]\n",
      " [-21]\n",
      " [ 18]]\n",
      "0\n",
      "============\n",
      "[ 0.  -4.  -8.5]\n",
      "[[ 1.     2.     2.5  ]\n",
      " [-0.     1.     2.125]\n",
      " [ 0.    -5.    -1.5  ]]\n",
      "[[-7]\n",
      " [ 0]\n",
      " [25]]\n",
      "1\n",
      "============\n",
      "[0.    0.    9.125]\n",
      "[[ 1.     0.    -1.75 ]\n",
      " [-0.     1.     2.125]\n",
      " [ 0.     0.     1.   ]]\n",
      "[[-7]\n",
      " [ 0]\n",
      " [ 2]]\n",
      "2\n",
      "============\n"
     ]
    }
   ],
   "source": [
    "for x in range(0,n) :\n",
    "  print(A[x])\n",
    "  B[x]=B[x]/A[x][x]\n",
    "  A[x]=A[x]/A[x][x]\n",
    "  print(A)\n",
    "  print(B)\n",
    "  print(x)\n",
    "  print(\"============\")\n",
    "  for y in range(0,n) :\n",
    "    if (y==x) :\n",
    "      continue\n",
    "    B[y]=B[y]-(B[x]*A[y][x])\n",
    "    A[y]=A[y]-(A[x]*A[y][x])"
   ]
  }
 ],
 "metadata": {
  "kernelspec": {
   "display_name": "Python 3",
   "language": "python",
   "name": "python3"
  },
  "language_info": {
   "codemirror_mode": {
    "name": "ipython",
    "version": 3
   },
   "file_extension": ".py",
   "mimetype": "text/x-python",
   "name": "python",
   "nbconvert_exporter": "python",
   "pygments_lexer": "ipython3",
   "version": "3.10.8"
  },
  "orig_nbformat": 4
 },
 "nbformat": 4,
 "nbformat_minor": 2
}
